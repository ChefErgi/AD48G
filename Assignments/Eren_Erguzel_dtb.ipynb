{
 "cells": [
  {
   "cell_type": "markdown",
   "id": "d94bf8e8-c2d8-4b28-8d07-5756f17739db",
   "metadata": {},
   "source": [
    "**Load the required libraries**"
   ]
  },
  {
   "cell_type": "code",
   "execution_count": null,
   "id": "9fdad4a3-6930-4dcf-9748-3894ca0ff9c2",
   "metadata": {
    "tags": []
   },
   "outputs": [
    {
     "name": "stderr",
     "output_type": "stream",
     "text": [
      "Warning message in system(\"timedatectl\", intern = TRUE):\n",
      "“running command 'timedatectl' had status 1”\n",
      "── \u001b[1mAttaching core tidyverse packages\u001b[22m ──────────────────────── tidyverse 2.0.0 ──\n",
      "\u001b[32m✔\u001b[39m \u001b[34mdplyr    \u001b[39m 1.1.4     \u001b[32m✔\u001b[39m \u001b[34mreadr    \u001b[39m 2.1.5\n",
      "\u001b[32m✔\u001b[39m \u001b[34mforcats  \u001b[39m 1.0.0     \u001b[32m✔\u001b[39m \u001b[34mstringr  \u001b[39m 1.5.1\n",
      "\u001b[32m✔\u001b[39m \u001b[34mggplot2  \u001b[39m 3.4.4     \u001b[32m✔\u001b[39m \u001b[34mtibble   \u001b[39m 3.2.1\n",
      "\u001b[32m✔\u001b[39m \u001b[34mlubridate\u001b[39m 1.9.3     \u001b[32m✔\u001b[39m \u001b[34mtidyr    \u001b[39m 1.3.1\n",
      "\u001b[32m✔\u001b[39m \u001b[34mpurrr    \u001b[39m 1.0.2     \n",
      "── \u001b[1mConflicts\u001b[22m ────────────────────────────────────────── tidyverse_conflicts() ──\n",
      "\u001b[31m✖\u001b[39m \u001b[34mdplyr\u001b[39m::\u001b[32mbetween()\u001b[39m     masks \u001b[34mdata.table\u001b[39m::between()\n",
      "\u001b[31m✖\u001b[39m \u001b[34mdplyr\u001b[39m::\u001b[32mfilter()\u001b[39m      masks \u001b[34mstats\u001b[39m::filter()\n",
      "\u001b[31m✖\u001b[39m \u001b[34mdplyr\u001b[39m::\u001b[32mfirst()\u001b[39m       masks \u001b[34mdata.table\u001b[39m::first()\n",
      "\u001b[31m✖\u001b[39m \u001b[34mlubridate\u001b[39m::\u001b[32mhour()\u001b[39m    masks \u001b[34mdata.table\u001b[39m::hour()\n",
      "\u001b[31m✖\u001b[39m \u001b[34mlubridate\u001b[39m::\u001b[32misoweek()\u001b[39m masks \u001b[34mdata.table\u001b[39m::isoweek()\n",
      "\u001b[31m✖\u001b[39m \u001b[34mdplyr\u001b[39m::\u001b[32mlag()\u001b[39m         masks \u001b[34mstats\u001b[39m::lag()\n",
      "\u001b[31m✖\u001b[39m \u001b[34mdplyr\u001b[39m::\u001b[32mlast()\u001b[39m        masks \u001b[34mdata.table\u001b[39m::last()\n",
      "\u001b[31m✖\u001b[39m \u001b[34mlubridate\u001b[39m::\u001b[32mmday()\u001b[39m    masks \u001b[34mdata.table\u001b[39m::mday()\n",
      "\u001b[31m✖\u001b[39m \u001b[34mlubridate\u001b[39m::\u001b[32mminute()\u001b[39m  masks \u001b[34mdata.table\u001b[39m::minute()\n",
      "\u001b[31m✖\u001b[39m \u001b[34mlubridate\u001b[39m::\u001b[32mmonth()\u001b[39m   masks \u001b[34mdata.table\u001b[39m::month()\n",
      "\u001b[31m✖\u001b[39m \u001b[34mlubridate\u001b[39m::\u001b[32mquarter()\u001b[39m masks \u001b[34mdata.table\u001b[39m::quarter()\n",
      "\u001b[31m✖\u001b[39m \u001b[34mlubridate\u001b[39m::\u001b[32msecond()\u001b[39m  masks \u001b[34mdata.table\u001b[39m::second()\n",
      "\u001b[31m✖\u001b[39m \u001b[34mpurrr\u001b[39m::\u001b[32mtranspose()\u001b[39m   masks \u001b[34mdata.table\u001b[39m::transpose()\n",
      "\u001b[31m✖\u001b[39m \u001b[34mlubridate\u001b[39m::\u001b[32mwday()\u001b[39m    masks \u001b[34mdata.table\u001b[39m::wday()\n",
      "\u001b[31m✖\u001b[39m \u001b[34mlubridate\u001b[39m::\u001b[32mweek()\u001b[39m    masks \u001b[34mdata.table\u001b[39m::week()\n",
      "\u001b[31m✖\u001b[39m \u001b[34mlubridate\u001b[39m::\u001b[32myday()\u001b[39m    masks \u001b[34mdata.table\u001b[39m::yday()\n",
      "\u001b[31m✖\u001b[39m \u001b[34mlubridate\u001b[39m::\u001b[32myear()\u001b[39m    masks \u001b[34mdata.table\u001b[39m::year()\n",
      "\u001b[36mℹ\u001b[39m Use the conflicted package (\u001b[3m\u001b[34m<http://conflicted.r-lib.org/>\u001b[39m\u001b[23m) to force all conflicts to become errors\n"
     ]
    }
   ],
   "source": [
    "library(data.table)\n",
    "library(tidyverse)\n",
    "library(DBI)\n",
    "library(RSQLite)\n",
    "library(dbplyr)\n",
    "library(lubridate)"
   ]
  },
  {
   "cell_type": "markdown",
   "id": "d4e23fe9-0856-4f20-84b3-828a7451536c",
   "metadata": {
    "tags": []
   },
   "source": [
    "**For limiting the number of top and bottom rows of tables printed** "
   ]
  },
  {
   "cell_type": "code",
   "execution_count": null,
   "id": "484e4e07-2724-4fc9-b641-bc02e2e7cb2f",
   "metadata": {
    "tags": []
   },
   "outputs": [],
   "source": [
    "options(repr.matrix.max.rows=20, repr.matrix.max.cols=30) "
   ]
  },
  {
   "cell_type": "markdown",
   "id": "c8654149-0280-4170-8748-dd87dfb5dbf0",
   "metadata": {
    "tags": []
   },
   "source": [
    "**Load the data**"
   ]
  },
  {
   "cell_type": "code",
   "execution_count": null,
   "id": "e2c4a481-bcb6-4aac-a121-a96e0c76ef4d",
   "metadata": {
    "tags": []
   },
   "outputs": [],
   "source": [
    "#?lakers"
   ]
  },
  {
   "cell_type": "code",
   "execution_count": null,
   "id": "54d0bed9-442f-41de-bf0c-cddbe4a8024c",
   "metadata": {
    "tags": []
   },
   "outputs": [],
   "source": [
    "tail(lakers)"
   ]
  },
  {
   "cell_type": "markdown",
   "id": "4b319870-2c05-4bb5-9642-36832a409a2d",
   "metadata": {
    "tags": []
   },
   "source": [
    "# Task 1"
   ]
  },
  {
   "cell_type": "markdown",
   "id": "3f0b35e9-ceeb-4f62-9df6-d17739a9faf0",
   "metadata": {
    "tags": []
   },
   "source": [
    "## Create a 2nd table using the unique opponents "
   ]
  },
  {
   "cell_type": "code",
   "execution_count": null,
   "id": "d7947b65-5c51-4092-b134-171ad2c42c7c",
   "metadata": {
    "tags": []
   },
   "outputs": [],
   "source": [
    "teams <- lakers %>% distinct(opponent) %>% mutate(team_city = paste(opponent, \"City\")) \n",
    "teams"
   ]
  },
  {
   "cell_type": "markdown",
   "id": "0fa822de-c00a-4e05-8613-e0bd67f5f6c6",
   "metadata": {},
   "source": [
    "## Create a connection"
   ]
  },
  {
   "cell_type": "markdown",
   "id": "81c08e44-c02a-4a92-8eda-a88c8d797072",
   "metadata": {},
   "source": [
    "**Create a connection to a new SQLite database. Delete the existing one if exists:**"
   ]
  },
  {
   "cell_type": "code",
   "execution_count": null,
   "id": "500e738a-5e87-4961-b947-d2f09f4382f3",
   "metadata": {
    "tags": []
   },
   "outputs": [],
   "source": [
    "if (file.exists(\"~/databb/temp/lakers.db\")) file.remove(\"~/databb/temp/lakers.db\")"
   ]
  },
  {
   "cell_type": "code",
   "execution_count": null,
   "id": "b0d3f7bb-163b-484e-9fdd-3b910005b743",
   "metadata": {
    "tags": []
   },
   "outputs": [],
   "source": [
    "consq <- dbConnect(RSQLite::SQLite(), \"~/databb/temp/lakers.db\")"
   ]
  },
  {
   "cell_type": "markdown",
   "id": "0f0cb094-72d5-4ac5-a06a-3590775934eb",
   "metadata": {
    "tags": []
   },
   "source": [
    "## Write the tables into the SQlite database"
   ]
  },
  {
   "cell_type": "markdown",
   "id": "0457420f-6019-4400-b434-6f66969a0c1a",
   "metadata": {
    "jp-MarkdownHeadingCollapsed": true,
    "tags": []
   },
   "source": [
    "**Get the names of tables from R object**"
   ]
  },
  {
   "cell_type": "code",
   "execution_count": null,
   "id": "9b7f110a-6bd8-4a29-8fde-9d9b1f02d2c4",
   "metadata": {
    "tags": []
   },
   "outputs": [],
   "source": [
    "dbWriteTable(consq, \"lakers\", lakers, overwrite = T)\n",
    "dbWriteTable(consq, \"teams\", teams, overwrite = T)"
   ]
  },
  {
   "cell_type": "markdown",
   "id": "3ef23377-1ac9-4c86-a0a9-dfc5360f4572",
   "metadata": {},
   "source": [
    "## Create Lazy Query Objects and Chain Operations"
   ]
  },
  {
   "cell_type": "markdown",
   "id": "3859f265-04f8-4d7f-89ea-a2f5e4b83b60",
   "metadata": {},
   "source": [
    "**Create lazy query objects for each table in the SQLite database**"
   ]
  },
  {
   "cell_type": "code",
   "execution_count": null,
   "id": "b77ffecd-07b9-4bec-a4f4-5a92cbb1bbc5",
   "metadata": {
    "tags": []
   },
   "outputs": [],
   "source": [
    "lakers_db <- tbl(consq, \"lakers\")\n",
    "teams_db <- tbl(consq, \"teams\")"
   ]
  },
  {
   "cell_type": "markdown",
   "id": "42401fd1-0d26-4112-80c7-a26ceb04dd6c",
   "metadata": {
    "tags": []
   },
   "source": [
    "## Create other lazy query object(s) with chain operations ##"
   ]
  },
  {
   "cell_type": "markdown",
   "id": "d932f97f-c9d5-4695-b0bb-3c78d482e20a",
   "metadata": {},
   "source": [
    "**Select relevant columns from the lakers table**"
   ]
  },
  {
   "cell_type": "code",
   "execution_count": null,
   "id": "e9cc3284-2d9c-4a40-815b-af812b7747ec",
   "metadata": {
    "tags": []
   },
   "outputs": [],
   "source": [
    "lakers_sel <- lakers_db %>% select(date, opponent, type ,player ,result)\n",
    "lakers_sel"
   ]
  },
  {
   "cell_type": "markdown",
   "id": "45dce674-6a51-4a6a-9729-c471cead7ceb",
   "metadata": {},
   "source": [
    "**Filter the lakers table for Kobe Bryant and his missed layups**"
   ]
  },
  {
   "cell_type": "code",
   "execution_count": null,
   "id": "f7f9b12b-04b3-4828-b4cb-96d45999d072",
   "metadata": {
    "tags": []
   },
   "outputs": [],
   "source": [
    "lakers_filt <- lakers_sel %>% filter(player == \"Kobe Bryant\" & type == \"layup\" & result == \"missed\")\n",
    "lakers_filt"
   ]
  },
  {
   "cell_type": "markdown",
   "id": "dc74f578-1d9d-41d4-a137-1ceeebf6d38a",
   "metadata": {},
   "source": [
    "**Mutate the lakers table: Convert the date to a Date object**"
   ]
  },
  {
   "cell_type": "code",
   "execution_count": null,
   "id": "07f7bdfd-fb03-4e75-9c04-b835e296387e",
   "metadata": {
    "tags": []
   },
   "outputs": [],
   "source": [
    "lakers_mut <- lakers_filt %>% mutate(date = as.Date(date))\n",
    "lakers_mut"
   ]
  },
  {
   "cell_type": "markdown",
   "id": "92915ccd-1002-49a8-8e89-c7a73f69344d",
   "metadata": {},
   "source": [
    "**Join with the teams table using the 'opponent' column**"
   ]
  },
  {
   "cell_type": "code",
   "execution_count": null,
   "id": "dd6e3f25-6fc9-4fd6-906d-07c6e487fe90",
   "metadata": {
    "tags": []
   },
   "outputs": [],
   "source": [
    "joined_data <- lakers_mut %>% left_join(teams_db, by = \"opponent\")\n",
    "joined_data"
   ]
  },
  {
   "cell_type": "markdown",
   "id": "12cc1e4d-a6db-44a7-b901-75561c3a3594",
   "metadata": {},
   "source": [
    "**Group by opponent and team_city, then summarise the missed layup count per opponent for Kobe Bryant**"
   ]
  },
  {
   "cell_type": "code",
   "execution_count": null,
   "id": "bd71da24-a21f-4f1b-840a-40315abfb434",
   "metadata": {
    "tags": []
   },
   "outputs": [],
   "source": [
    "final_query <- joined_data %>% \n",
    "    group_by(opponent, team_city) %>% \n",
    "    summarise(missed_layup = n())\n",
    "final_query"
   ]
  },
  {
   "cell_type": "markdown",
   "id": "fd294939-689d-4ba8-ab2d-424a732ad6b5",
   "metadata": {},
   "source": [
    "**Display the final lazy query object**"
   ]
  },
  {
   "cell_type": "code",
   "execution_count": null,
   "id": "bb088baa-a870-4b04-adfa-69533d7cb926",
   "metadata": {
    "tags": []
   },
   "outputs": [],
   "source": [
    "show_query(final_query)"
   ]
  },
  {
   "cell_type": "markdown",
   "id": "d416c498-3335-47c0-823a-7e24df08c557",
   "metadata": {},
   "source": [
    "**Execute all the steps and collect the results**"
   ]
  },
  {
   "cell_type": "code",
   "execution_count": null,
   "id": "69d643f1-91cf-4c22-9c24-8bf24042890b",
   "metadata": {
    "tags": []
   },
   "outputs": [],
   "source": [
    "results <- final_query %>% collect\n",
    "results"
   ]
  },
  {
   "cell_type": "markdown",
   "id": "4ad13615-5119-4ea7-b74b-72bd58fb35f8",
   "metadata": {},
   "source": [
    "## Task 2"
   ]
  },
  {
   "cell_type": "markdown",
   "id": "e33a13b4-615a-415f-be6b-070647dc0eaa",
   "metadata": {},
   "source": [
    "**Create a POSIXct datetime vector**"
   ]
  },
  {
   "cell_type": "code",
   "execution_count": null,
   "id": "677545b1-7c69-4722-96ec-45f9d6308fd3",
   "metadata": {
    "tags": []
   },
   "outputs": [],
   "source": [
    "dates <- as.POSIXct(c(\"2025-01-01 12:00:00\", \n",
    "                      \"2025-06-15 08:30:00\", \n",
    "                      \"2025-12-31 23:59:59\"), tz = \"UTC\")\n",
    "dates"
   ]
  },
  {
   "cell_type": "markdown",
   "id": "b45149d4-4fd2-4f57-8f68-15282dec20ab",
   "metadata": {
    "tags": []
   },
   "source": [
    "**add 10 days to each datetime**"
   ]
  },
  {
   "cell_type": "code",
   "execution_count": null,
   "id": "505e9e5d-8577-4b63-86a2-2d25af9d6168",
   "metadata": {
    "tags": []
   },
   "outputs": [],
   "source": [
    "dates_plus10 <- dates + days(10)\n",
    "dates_plus10"
   ]
  },
  {
   "cell_type": "markdown",
   "id": "908b6f22-2c06-46bb-a273-80ff23e47e3c",
   "metadata": {
    "tags": []
   },
   "source": [
    "**Format the datetime to show only the date component (YYYY-MM-DD)**"
   ]
  },
  {
   "cell_type": "code",
   "execution_count": null,
   "id": "21a10418-98d6-4c6b-bab8-9bc3ae83820d",
   "metadata": {
    "tags": []
   },
   "outputs": [],
   "source": [
    "dates_formatted <- format(dates, \"%Y-%m-%d\")\n",
    "dates_formatted"
   ]
  },
  {
   "cell_type": "markdown",
   "id": "3a01efb2-aaee-4bb1-995d-0ca89ca8929f",
   "metadata": {
    "tags": []
   },
   "source": [
    "**Calculate the difference in days between the first and the last date**"
   ]
  },
  {
   "cell_type": "code",
   "execution_count": null,
   "id": "eba112ec-547c-47f5-a8c3-69b46f7368af",
   "metadata": {
    "tags": []
   },
   "outputs": [],
   "source": [
    "date_diff <- difftime(dates[3], dates[1], units = \"days\")\n",
    "date_diff"
   ]
  }
 ],
 "metadata": {
  "kernelspec": {
   "display_name": "R",
   "language": "R",
   "name": "ir"
  },
  "language_info": {
   "codemirror_mode": "r",
   "file_extension": ".r",
   "mimetype": "text/x-r-source",
   "name": "R",
   "pygments_lexer": "r",
   "version": "4.2.1"
  }
 },
 "nbformat": 4,
 "nbformat_minor": 5
}
